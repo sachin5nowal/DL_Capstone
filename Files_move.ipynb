{
 "cells": [
  {
   "cell_type": "code",
   "execution_count": 1,
   "metadata": {},
   "outputs": [],
   "source": [
    "#copying files to folders"
   ]
  },
  {
   "cell_type": "code",
   "execution_count": 3,
   "metadata": {},
   "outputs": [],
   "source": [
    "import os\n",
    "import shutil"
   ]
  },
  {
   "cell_type": "code",
   "execution_count": 4,
   "metadata": {},
   "outputs": [
    {
     "data": {
      "text/plain": [
       "'/home/sachin/ML_training/Dog_breed/desti/test.zip'"
      ]
     },
     "execution_count": 4,
     "metadata": {},
     "output_type": "execute_result"
    }
   ],
   "source": [
    "shutil.move(\"/home/sachin/ML_training/Dog_breed/test.zip\", \"/home/sachin/ML_training/Dog_breed/desti\")"
   ]
  },
  {
   "cell_type": "code",
   "execution_count": 8,
   "metadata": {},
   "outputs": [],
   "source": [
    "def makemydir(whatever):\n",
    "  try:\n",
    "    os.makedirs(whatever)\n",
    "  except OSError:\n",
    "    pass\n",
    "  # let exception propagate if we just can't\n",
    "  # cd into the specified directory\n",
    "  os.chdir(whatever)"
   ]
  },
  {
   "cell_type": "code",
   "execution_count": 10,
   "metadata": {},
   "outputs": [],
   "source": [
    "makemydir(\"/home/sachin/ML_training/Dog_breed/desti/\")"
   ]
  },
  {
   "cell_type": "code",
   "execution_count": 25,
   "metadata": {},
   "outputs": [],
   "source": [
    "for i in range(100):\n",
    "    folder_no=str(i+1)\n",
    "    makemydir(\"/home/sachin/ML_training/Dog_breed/desti/\"+folder_no)"
   ]
  },
  {
   "cell_type": "code",
   "execution_count": null,
   "metadata": {},
   "outputs": [],
   "source": [
    "for k in range(100):\n",
    "    folder_no=str(i+1)\n",
    "    \n",
    "    image"
   ]
  },
  {
   "cell_type": "code",
   "execution_count": 26,
   "metadata": {},
   "outputs": [],
   "source": [
    "import glob\n",
    "count=0\n",
    "folder_no=1\n",
    "for img in glob.glob(\"/home/sachin/ML_training/Dog_breed/train/*.jpg\"):\n",
    "    count=count+1\n",
    "    file=img\n",
    "    folder=\"/home/sachin/ML_training/Dog_breed/desti/\"+str(folder_no)\n",
    "    if count==10001:\n",
    "        break\n",
    "    if count%100==0:\n",
    "        folder_no=folder_no+1\n",
    "    shutil.move(file,folder)\n",
    "    #shutil.move(\"/home/sachin/ML_training/Dog_breed/test.zip\", \"/home/sachin/ML_training/Dog_breed/desti\")\n"
   ]
  },
  {
   "cell_type": "code",
   "execution_count": 14,
   "metadata": {
    "scrolled": true
   },
   "outputs": [
    {
     "data": {
      "text/plain": [
       "1"
      ]
     },
     "execution_count": 14,
     "metadata": {},
     "output_type": "execute_result"
    }
   ],
   "source": [
    "module = hub.Module(\"https://tfhub.dev/google/imagenet/inception_v3/feature_vector/1\")\n",
    "height, width = hub.get_expected_image_size(module)"
   ]
  }
 ],
 "metadata": {
  "kernelspec": {
   "display_name": "Python 3",
   "language": "python",
   "name": "python3"
  },
  "language_info": {
   "codemirror_mode": {
    "name": "ipython",
    "version": 3
   },
   "file_extension": ".py",
   "mimetype": "text/x-python",
   "name": "python",
   "nbconvert_exporter": "python",
   "pygments_lexer": "ipython3",
   "version": "3.6.5"
  }
 },
 "nbformat": 4,
 "nbformat_minor": 2
}
